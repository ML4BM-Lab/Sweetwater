{
 "cells": [
  {
   "cell_type": "code",
   "execution_count": 60,
   "metadata": {},
   "outputs": [],
   "source": [
    "import warnings\n",
    "warnings.simplefilter(action='ignore', category=FutureWarning)\n",
    "import sys\n",
    "import importlib\n",
    "sys.path.append('../src/')\n",
    "sys.path.append('../data/')\n",
    "import model as mod\n",
    "importlib.reload(mod)\n",
    "#from data_utils import generate_synthethic, transform_and_normalize, CCCscore\n",
    "import load_rosmap as lr\n",
    "importlib.reload(lr)\n",
    "import data_utils as du\n",
    "importlib.reload(du)\n",
    "from sklearn.model_selection import train_test_split\n",
    "import torch"
   ]
  },
  {
   "cell_type": "code",
   "execution_count": 56,
   "metadata": {},
   "outputs": [],
   "source": [
    "## lets use the human brain cortex dataset from the original manuscript\n",
    "scRNA, bulkRNA = lr.load_and_filter_hbc_rosmap(genes_cutoff=3000)\n",
    "\n",
    "## define number of samples\n",
    "nsamples = 5000\n",
    "train_size, test_size = 0.8, 0.2"
   ]
  },
  {
   "cell_type": "code",
   "execution_count": 57,
   "metadata": {},
   "outputs": [
    {
     "name": "stderr",
     "output_type": "stream",
     "text": [
      "simulating bulk: 100%|██████████| 511/511 [00:01<00:00, 260.44it/s]\n",
      "simulating bulk: 100%|██████████| 511/511 [00:00<00:00, 1142.32it/s]\n"
     ]
    }
   ],
   "source": [
    "#split into train and test\n",
    "scRNA_train, scRNA_test = train_test_split(scRNA.copy(), stratify=scRNA.index, test_size = 0.2, random_state= 42)\n",
    "\n",
    "# create pseudobulk for train\n",
    "xtrain, ytrain = du.generate_synthethic(scRNA_train, nsamples = train_size)\n",
    "xtest, ytest = du.generate_synthethic(scRNA_test, nsamples = test_size)\n",
    "\n",
    "## transform and normalize\n",
    "xtrain, xtest = du.transform_and_normalize(xtrain, xtest)\n",
    "\n",
    "## convert to torch\n",
    "xtrain, ytrain, xtest, ytest, xbulk = du.convert_to_float_tensors(xtrain, ytrain, xtest, ytest, bulkRNA.values)"
   ]
  },
  {
   "cell_type": "code",
   "execution_count": 63,
   "metadata": {},
   "outputs": [],
   "source": [
    "## define epochs and init sweetwater object\n",
    "epochs = round(30000/(xtrain.shape[0]/256))\n",
    "# sw = mod.SweetWater(data = (xtrain, ytrain, xtest, ytest), \n",
    "#                 bulkrna = xbulk,\n",
    "#                 name = 'Human Brain Cortex', verbose = True, \n",
    "#                 lr = 0.00001, batch_size = 256, epochs = epochs)\n",
    "\n",
    "## train\n",
    "#sw.run()"
   ]
  }
 ],
 "metadata": {
  "kernelspec": {
   "display_name": "Python 3",
   "language": "python",
   "name": "python3"
  },
  "language_info": {
   "codemirror_mode": {
    "name": "ipython",
    "version": 3
   },
   "file_extension": ".py",
   "mimetype": "text/x-python",
   "name": "python",
   "nbconvert_exporter": "python",
   "pygments_lexer": "ipython3",
   "version": "3.8.10"
  }
 },
 "nbformat": 4,
 "nbformat_minor": 2
}
