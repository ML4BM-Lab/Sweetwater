{
 "cells": [
  {
   "cell_type": "code",
   "execution_count": 12,
   "metadata": {},
   "outputs": [],
   "source": [
    "import warnings\n",
    "warnings.simplefilter(action='ignore', category=FutureWarning)\n",
    "import sys\n",
    "import importlib\n",
    "sys.path.append('../src/')\n",
    "sys.path.append('../data/')\n",
    "import models_utils as mu\n",
    "importlib.reload(mu)\n",
    "#from data_utils import generate_synthethic, transform_and_normalize, CCCscore\n",
    "import load_rosmap as lr\n",
    "importlib.reload(lr)\n",
    "import data_utils as du\n",
    "importlib.reload(du)\n",
    "from sklearn.model_selection import train_test_split\n",
    "import torch\n",
    "import os\n",
    "import numpy as np"
   ]
  },
  {
   "cell_type": "code",
   "execution_count": 13,
   "metadata": {},
   "outputs": [
    {
     "name": "stderr",
     "output_type": "stream",
     "text": [
      "simulating bulk: 100%|██████████| 5110/5110 [00:24<00:00, 208.64it/s]\n",
      "/mnt/md0/data/jfuente/digital_cytometry/Sweetwater_package/Sweetwater/examples/../src/data_utils.py:109: UserWarning: Creating a tensor from a list of numpy.ndarrays is extremely slow. Please consider converting the list to a single numpy.ndarray with numpy.array() before converting to a tensor. (Triggered internally at ../torch/csrc/utils/tensor_new.cpp:245.)\n",
      "  return [torch.tensor(x).float().cuda() if torch.cuda.is_available() else torch.tensor(x).float() for x in args]\n"
     ]
    }
   ],
   "source": [
    "## lets use the human brain cortex dataset from the original manuscript\n",
    "scRNA, _ = lr.load_and_filter_hbc_rosmap(genes_cutoff=3000)\n",
    "\n",
    "## create pseudobulk for train\n",
    "xtrain, ytrain = du.generate_synthethic(scRNA, nsamples = 5000)\n",
    "\n",
    "# ## transform and normalize\n",
    "xtrain = du.transform_and_normalize(xtrain)\n",
    "\n",
    "# ## convert to torch\n",
    "xtrain, = du.convert_to_float_tensors(xtrain)"
   ]
  },
  {
   "cell_type": "code",
   "execution_count": null,
   "metadata": {},
   "outputs": [],
   "source": [
    "## save it \n",
    "modelpath = f'data/weights_{scRNA.shape[1]}_genes.pt'\n",
    "\n",
    "## load the model\n",
    "model = mu.SweetWaterAutoEncoder(xtrain.shape[1], num_classes = ytrain.shape[1])\n",
    "model.load_state_dict(torch.load(os.path.join(modelpath)))\n",
    "model.eval()"
   ]
  },
  {
   "cell_type": "code",
   "execution_count": null,
   "metadata": {},
   "outputs": [],
   "source": [
    "\n",
    "\"\"\"\n",
    "Compute scores\n",
    "\"\"\"\n",
    "output = 0 ## gene i\n",
    "extra = None\n",
    "deeplift_scores_l = []\n",
    "\n",
    "for i in tqdm(range(ytrprop.shape[1])):\n",
    "\n",
    "    if refstr == 'refdynamic':\n",
    "        input = xtrain[singlect_dict[i],:]\n",
    "        refdynamic = torch.zeros(size=xtrain[singlect_dict[i],:].shape)\n",
    "\n",
    "    ## Calculate scores\n",
    "    deeplift_score = calculate_scores_batch(eval(f'explainer_{explstr}'), input, eval(refstr), i, extra) ## output gene i\n",
    "    ## sum across samples\n",
    "    score_values = deeplift_score.cpu().detach().numpy().sum(axis=0)\n",
    "    deeplift_scores_l.append(score_values)\n",
    "\n",
    "# visualize score\n",
    "deeplift_scores_df = pd.DataFrame(deeplift_scores_l).T\n",
    "deeplift_scores_df.columns = RNAData.celltypes\n",
    "\n",
    "if explstr == 'lastlayer':\n",
    "    deeplift_scores_df.index = RNAData.common_genes\n",
    "\n",
    "# drop unknowns\n",
    "#ctlist = ['B cells','Monocytes','NK','T CD4','T CD8', 'mDCs', 'pDCs']\n",
    "#kgenes = remove_ct(RNAData,kgenes, ctlist)\n",
    "\n",
    "## filter by top k topkdeepliftscore\n",
    "if typeofgenes == 'topkdeepliftscore':\n",
    "    topkdeepliftscore = []\n",
    "    for ct in deeplift_scores_df.columns:\n",
    "        topkdeeplift_ct = deeplift_scores_df.loc[:,ct].sort_values(ascending=False).head(ngenes_celltype).index.tolist()\n",
    "        topkdeepliftscore += topkdeeplift_ct\n",
    "\n",
    "kgenes = eval(typeofgenes) #+ bottomkgenes\n",
    "deeplift_scores_df_kgenes = deeplift_scores_df.loc[kgenes, :]\n",
    "deeplift_scores_df_kgenes.to_csv(os.path.join('interpretability', name.lower(), 'sweetwater', 'lastlayer','topkdeepliftscore',f'score_genes_top{ngenes_celltype}.tsv'),sep='\\t')\n",
    "\n",
    "##define filename\n",
    "filename = f'corrmat_{xtrain.shape[1]}_sumscores_{refstr}_top{ngenes_celltype}genes'\n",
    "\n",
    "## plot complex heatmap\n",
    "plot_complexheatmap(rename_duplicates(deeplift_scores_df_kgenes))"
   ]
  }
 ],
 "metadata": {
  "kernelspec": {
   "display_name": "Python 3",
   "language": "python",
   "name": "python3"
  },
  "language_info": {
   "codemirror_mode": {
    "name": "ipython",
    "version": 3
   },
   "file_extension": ".py",
   "mimetype": "text/x-python",
   "name": "python",
   "nbconvert_exporter": "python",
   "pygments_lexer": "ipython3",
   "version": "3.8.10"
  }
 },
 "nbformat": 4,
 "nbformat_minor": 2
}
