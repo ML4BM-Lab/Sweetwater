{
 "cells": [
  {
   "cell_type": "code",
   "execution_count": 54,
   "metadata": {},
   "outputs": [],
   "source": [
    "pd.set_option('display.max_rows', 20)\n",
    "pd.set_option('display.max_columns', 5)\n",
    "import warnings\n",
    "warnings.simplefilter(action='ignore', category=FutureWarning)\n",
    "import sys\n",
    "import importlib\n",
    "sys.path.append('../src/')\n",
    "sys.path.append('../data/')\n",
    "import model as mod\n",
    "importlib.reload(mod)\n",
    "#from data_utils import generate_synthethic, transform_and_normalize, CCCscore\n",
    "import load_rosmap as lr\n",
    "importlib.reload(lr)\n",
    "import data_utils as du\n",
    "importlib.reload(du)\n",
    "from sklearn.model_selection import train_test_split\n",
    "import torch\n",
    "import pandas as pd\n",
    "import os"
   ]
  },
  {
   "cell_type": "code",
   "execution_count": 41,
   "metadata": {},
   "outputs": [],
   "source": [
    "## lets use the human brain cortex dataset from the original manuscript\n",
    "scRNA, bulkRNA = lr.load_and_filter_hbc_rosmap(genes_cutoff=3000)\n",
    "\n",
    "## define number of samples\n",
    "nsamples = 5000\n",
    "train_size, test_size = 0.8, 0.2"
   ]
  },
  {
   "cell_type": "code",
   "execution_count": 51,
   "metadata": {},
   "outputs": [
    {
     "data": {
      "text/html": [
       "<div>\n",
       "<style scoped>\n",
       "    .dataframe tbody tr th:only-of-type {\n",
       "        vertical-align: middle;\n",
       "    }\n",
       "\n",
       "    .dataframe tbody tr th {\n",
       "        vertical-align: top;\n",
       "    }\n",
       "\n",
       "    .dataframe thead th {\n",
       "        text-align: right;\n",
       "    }\n",
       "</style>\n",
       "<table border=\"1\" class=\"dataframe\">\n",
       "  <thead>\n",
       "    <tr style=\"text-align: right;\">\n",
       "      <th></th>\n",
       "      <th>MALAT1</th>\n",
       "      <th>NEAT1</th>\n",
       "      <th>...</th>\n",
       "      <th>P2RX7</th>\n",
       "      <th>SYNJ1</th>\n",
       "    </tr>\n",
       "  </thead>\n",
       "  <tbody>\n",
       "    <tr>\n",
       "      <th>Endotelial</th>\n",
       "      <td>18.0</td>\n",
       "      <td>18.0</td>\n",
       "      <td>...</td>\n",
       "      <td>0.0</td>\n",
       "      <td>0.0</td>\n",
       "    </tr>\n",
       "    <tr>\n",
       "      <th>Microglia</th>\n",
       "      <td>19.0</td>\n",
       "      <td>11.0</td>\n",
       "      <td>...</td>\n",
       "      <td>1.0</td>\n",
       "      <td>0.0</td>\n",
       "    </tr>\n",
       "    <tr>\n",
       "      <th>Endotelial</th>\n",
       "      <td>64.0</td>\n",
       "      <td>20.0</td>\n",
       "      <td>...</td>\n",
       "      <td>0.0</td>\n",
       "      <td>0.0</td>\n",
       "    </tr>\n",
       "    <tr>\n",
       "      <th>Neuron</th>\n",
       "      <td>39.0</td>\n",
       "      <td>7.0</td>\n",
       "      <td>...</td>\n",
       "      <td>0.0</td>\n",
       "      <td>0.0</td>\n",
       "    </tr>\n",
       "    <tr>\n",
       "      <th>Endotelial</th>\n",
       "      <td>20.0</td>\n",
       "      <td>7.0</td>\n",
       "      <td>...</td>\n",
       "      <td>0.0</td>\n",
       "      <td>0.0</td>\n",
       "    </tr>\n",
       "    <tr>\n",
       "      <th>...</th>\n",
       "      <td>...</td>\n",
       "      <td>...</td>\n",
       "      <td>...</td>\n",
       "      <td>...</td>\n",
       "      <td>...</td>\n",
       "    </tr>\n",
       "    <tr>\n",
       "      <th>Astrocyte</th>\n",
       "      <td>76.0</td>\n",
       "      <td>39.0</td>\n",
       "      <td>...</td>\n",
       "      <td>0.0</td>\n",
       "      <td>0.0</td>\n",
       "    </tr>\n",
       "    <tr>\n",
       "      <th>Oligodendrocyte</th>\n",
       "      <td>121.0</td>\n",
       "      <td>18.0</td>\n",
       "      <td>...</td>\n",
       "      <td>0.0</td>\n",
       "      <td>0.0</td>\n",
       "    </tr>\n",
       "    <tr>\n",
       "      <th>Endotelial</th>\n",
       "      <td>18.0</td>\n",
       "      <td>11.0</td>\n",
       "      <td>...</td>\n",
       "      <td>0.0</td>\n",
       "      <td>0.0</td>\n",
       "    </tr>\n",
       "    <tr>\n",
       "      <th>Endotelial</th>\n",
       "      <td>46.0</td>\n",
       "      <td>12.0</td>\n",
       "      <td>...</td>\n",
       "      <td>0.0</td>\n",
       "      <td>0.0</td>\n",
       "    </tr>\n",
       "    <tr>\n",
       "      <th>Endotelial</th>\n",
       "      <td>33.0</td>\n",
       "      <td>9.0</td>\n",
       "      <td>...</td>\n",
       "      <td>0.0</td>\n",
       "      <td>0.0</td>\n",
       "    </tr>\n",
       "  </tbody>\n",
       "</table>\n",
       "<p>9279 rows × 3000 columns</p>\n",
       "</div>"
      ],
      "text/plain": [
       "                 MALAT1  NEAT1  ...  P2RX7  SYNJ1\n",
       "Endotelial         18.0   18.0  ...    0.0    0.0\n",
       "Microglia          19.0   11.0  ...    1.0    0.0\n",
       "Endotelial         64.0   20.0  ...    0.0    0.0\n",
       "Neuron             39.0    7.0  ...    0.0    0.0\n",
       "Endotelial         20.0    7.0  ...    0.0    0.0\n",
       "...                 ...    ...  ...    ...    ...\n",
       "Astrocyte          76.0   39.0  ...    0.0    0.0\n",
       "Oligodendrocyte   121.0   18.0  ...    0.0    0.0\n",
       "Endotelial         18.0   11.0  ...    0.0    0.0\n",
       "Endotelial         46.0   12.0  ...    0.0    0.0\n",
       "Endotelial         33.0    9.0  ...    0.0    0.0\n",
       "\n",
       "[9279 rows x 3000 columns]"
      ]
     },
     "execution_count": 51,
     "metadata": {},
     "output_type": "execute_result"
    }
   ],
   "source": [
    "scRNA"
   ]
  },
  {
   "cell_type": "code",
   "execution_count": 42,
   "metadata": {},
   "outputs": [
    {
     "name": "stderr",
     "output_type": "stream",
     "text": [
      "simulating bulk: 100%|██████████| 4030/4030 [00:08<00:00, 456.26it/s]\n",
      "simulating bulk: 100%|██████████| 1023/1023 [00:00<00:00, 1879.80it/s]\n"
     ]
    }
   ],
   "source": [
    "#split into train and test\n",
    "scRNA_train, scRNA_test = train_test_split(scRNA.copy(), stratify=scRNA.index, test_size = 0.2, random_state= 42)\n",
    "\n",
    "# create pseudobulk for train\n",
    "xtrain, ytrain, celltypes = du.generate_synthethic(scRNA_train, nsamples = nsamples * train_size)\n",
    "xtest, ytest, _ = du.generate_synthethic(scRNA_test, nsamples = nsamples * test_size)\n",
    "\n",
    "## transform and normalize\n",
    "xtrain, xtest, xbulk = du.transform_and_normalize(xtrain, xtest, bulkRNA.values)\n",
    "\n",
    "## convert to torch\n",
    "xtrain, ytrain, xtest, ytest, xbulk = du.convert_to_float_tensors(xtrain, ytrain, xtest, ytest, xbulk)"
   ]
  },
  {
   "cell_type": "code",
   "execution_count": 43,
   "metadata": {},
   "outputs": [
    {
     "name": "stdout",
     "output_type": "stream",
     "text": [
      "torch.Size([4030, 3000])\n",
      "torch.Size([1023, 3000])\n",
      "torch.Size([4030, 5])\n",
      "torch.Size([1023, 5])\n"
     ]
    }
   ],
   "source": [
    "print(xtrain.shape) #4088 (~5000*0.8) samples x 3000 genes (most variant ones)\n",
    "print(xtest.shape) #511 (~5000*0.2) samples x 3000 genes (most variant ones)\n",
    "print(ytrain.shape) #proportions associated to xtrain\n",
    "print(ytest.shape) #proportions associated to xtest"
   ]
  },
  {
   "cell_type": "code",
   "execution_count": 44,
   "metadata": {},
   "outputs": [
    {
     "name": "stdout",
     "output_type": "stream",
     "text": [
      "Stablishing Early Stopping with patience 10\n",
      "Stablishing Early Stopping with patience 10\n",
      "Stablishing Early Stopping with patience 50\n"
     ]
    },
    {
     "name": "stderr",
     "output_type": "stream",
     "text": [
      "P1: Train MSE is: 0.000359, Test MSE is 0.001379:  23%|██▎       | 436/1906 [01:19<04:27,  5.49it/s]\n"
     ]
    },
    {
     "name": "stdout",
     "output_type": "stream",
     "text": [
      "Early stopping condition achieved\n"
     ]
    },
    {
     "name": "stderr",
     "output_type": "stream",
     "text": [
      "P2: Train MSE is: 0.000454, Test MSE is: 0.000666:   3%|▎         | 56/1906 [00:08<04:56,  6.24it/s]\n"
     ]
    },
    {
     "name": "stdout",
     "output_type": "stream",
     "text": [
      "Early stopping condition achieved\n"
     ]
    },
    {
     "name": "stderr",
     "output_type": "stream",
     "text": [
      "P3: Train MSE 0.000319, test MSE 0.001089, Train R2 0.9961, Test R2 0.9867:  25%|██▌       | 483/1906 [01:20<03:58,  5.98it/s]"
     ]
    },
    {
     "name": "stdout",
     "output_type": "stream",
     "text": [
      "Early stopping condition achieved\n"
     ]
    },
    {
     "name": "stderr",
     "output_type": "stream",
     "text": [
      "\n"
     ]
    }
   ],
   "source": [
    "## define epochs and init sweetwater object\n",
    "epochs = round(30000/(xtrain.shape[0]/256))\n",
    "sw = mod.SweetWater(data = (xtrain, ytrain, xtest, ytest), \n",
    "                bulkrna = xbulk,\n",
    "                name = 'Human Brain Cortex', verbose = True, \n",
    "                lr = 0.00001, batch_size = 256, epochs = epochs)\n",
    "\n",
    "# train\n",
    "sw.run()"
   ]
  },
  {
   "cell_type": "code",
   "execution_count": 53,
   "metadata": {},
   "outputs": [
    {
     "name": "stdout",
     "output_type": "stream",
     "text": [
      "    Astrocyte  Endotelial  Microglia    Neuron  Oligodendrocyte\n",
      "0    0.457273    0.000157   0.007229  0.319406         0.215935\n",
      "1    0.251822    0.000101   0.008102  0.371767         0.368208\n",
      "2    0.263427    0.000399   0.005669  0.207004         0.523502\n",
      "3    0.558424    0.000551   0.015134  0.212886         0.213006\n",
      "4    0.417860    0.007512   0.005068  0.018189         0.551371\n",
      "..        ...         ...        ...       ...              ...\n",
      "44   0.290757    0.000155   0.008858  0.347381         0.352849\n",
      "45   0.570509    0.001234   0.007862  0.034796         0.385599\n",
      "46   0.367690    0.007774   0.004510  0.031133         0.588893\n",
      "47   0.475678    0.000289   0.008587  0.186441         0.329005\n",
      "48   0.448945    0.000333   0.012936  0.183593         0.354193\n",
      "\n",
      "[49 rows x 5 columns]\n"
     ]
    }
   ],
   "source": [
    "## we can now infer the cell type proportions of our bulkRNA samples\n",
    "ypredbulkrna = sw.aemodel(xbulk.to(sw.device), mode = 'phase3')\n",
    "print(pd.DataFrame(ypredbulkrna.detach().cpu(), columns = celltypes))"
   ]
  },
  {
   "cell_type": "code",
   "execution_count": 56,
   "metadata": {},
   "outputs": [],
   "source": [
    "## save the model to perform interpretability (see interpretability.ipynb)\n",
    "torch.save(sw.aemodel.state_dict(), os.path.join('../','data','model_rosmap_weights_3000_genes.pt'))"
   ]
  }
 ],
 "metadata": {
  "kernelspec": {
   "display_name": "Python 3",
   "language": "python",
   "name": "python3"
  },
  "language_info": {
   "codemirror_mode": {
    "name": "ipython",
    "version": 3
   },
   "file_extension": ".py",
   "mimetype": "text/x-python",
   "name": "python",
   "nbconvert_exporter": "python",
   "pygments_lexer": "ipython3",
   "version": "3.8.10"
  }
 },
 "nbformat": 4,
 "nbformat_minor": 2
}
