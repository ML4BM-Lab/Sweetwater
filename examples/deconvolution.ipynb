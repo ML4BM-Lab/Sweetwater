{
 "cells": [
  {
   "cell_type": "code",
   "execution_count": 4,
   "metadata": {},
   "outputs": [],
   "source": [
    "import warnings\n",
    "warnings.simplefilter(action='ignore', category=FutureWarning)\n",
    "import sys\n",
    "import importlib\n",
    "sys.path.append('../src/')\n",
    "sys.path.append('../data/')\n",
    "import model as mod\n",
    "importlib.reload(mod)\n",
    "#from data_utils import generate_synthethic, transform_and_normalize, CCCscore\n",
    "import load_rosmap as lr\n",
    "importlib.reload(lr)\n",
    "import data_utils as du\n",
    "importlib.reload(du)\n",
    "from sklearn.model_selection import train_test_split\n",
    "import torch"
   ]
  },
  {
   "cell_type": "code",
   "execution_count": 2,
   "metadata": {},
   "outputs": [],
   "source": [
    "## lets use the human brain cortex dataset from the original manuscript\n",
    "scRNA, bulkRNA = lr.load_and_filter_hbc_rosmap(genes_cutoff=3000)\n",
    "\n",
    "## define number of samples\n",
    "nsamples = 5000\n",
    "train_size, test_size = 0.8, 0.2"
   ]
  },
  {
   "cell_type": "code",
   "execution_count": 7,
   "metadata": {},
   "outputs": [
    {
     "name": "stderr",
     "output_type": "stream",
     "text": [
      "simulating bulk: 100%|██████████| 511/511 [00:02<00:00, 252.56it/s]\n",
      "simulating bulk: 100%|██████████| 511/511 [00:00<00:00, 1210.63it/s]\n"
     ]
    }
   ],
   "source": [
    "#split into train and test\n",
    "scRNA_train, scRNA_test = train_test_split(scRNA.copy(), stratify=scRNA.index, test_size = 0.2, random_state= 42)\n",
    "\n",
    "# create pseudobulk for train\n",
    "xtrain, ytrain = du.generate_synthethic(scRNA_train, nsamples = train_size)\n",
    "xtest, ytest = du.generate_synthethic(scRNA_test, nsamples = test_size)\n",
    "\n",
    "## transform and normalize\n",
    "xtrain, xtest, xbulk = du.transform_and_normalize(xtrain, xtest, bulkRNA.values)\n",
    "\n",
    "## convert to torch\n",
    "xtrain, ytrain, xtest, ytest, xbulk = du.convert_to_float_tensors(xtrain, ytrain, xtest, ytest, xbulk)"
   ]
  },
  {
   "cell_type": "code",
   "execution_count": 8,
   "metadata": {},
   "outputs": [
    {
     "name": "stdout",
     "output_type": "stream",
     "text": [
      "Stablishing Early Stopping with patience 10\n",
      "Stablishing Early Stopping with patience 10\n",
      "Stablishing Early Stopping with patience 50\n"
     ]
    },
    {
     "name": "stderr",
     "output_type": "stream",
     "text": [
      "P1: Train MSE is: 0.000348, Test MSE is 0.001816:  12%|█▏        | 1758/15029 [00:26<03:17, 67.07it/s]\n"
     ]
    },
    {
     "name": "stdout",
     "output_type": "stream",
     "text": [
      "Early stopping condition achieved\n"
     ]
    },
    {
     "name": "stderr",
     "output_type": "stream",
     "text": [
      "P2: Train MSE is: 0.000274, Test MSE is: 0.000444:   1%|▏         | 212/15029 [00:33<38:40,  6.39it/s]\n"
     ]
    },
    {
     "name": "stdout",
     "output_type": "stream",
     "text": [
      "Early stopping condition achieved\n"
     ]
    },
    {
     "name": "stderr",
     "output_type": "stream",
     "text": [
      "  0%|          | 0/15029 [00:00<?, ?it/s]\n"
     ]
    },
    {
     "ename": "TypeError",
     "evalue": "can't convert cuda:0 device type tensor to numpy. Use Tensor.cpu() to copy the tensor to host memory first.",
     "output_type": "error",
     "traceback": [
      "\u001b[0;31m---------------------------------------------------------------------------\u001b[0m",
      "\u001b[0;31mTypeError\u001b[0m                                 Traceback (most recent call last)",
      "Cell \u001b[0;32mIn[8], line 9\u001b[0m\n\u001b[1;32m      3\u001b[0m sw \u001b[38;5;241m=\u001b[39m mod\u001b[38;5;241m.\u001b[39mSweetWater(data \u001b[38;5;241m=\u001b[39m (xtrain, ytrain, xtest, ytest), \n\u001b[1;32m      4\u001b[0m                 bulkrna \u001b[38;5;241m=\u001b[39m xbulk,\n\u001b[1;32m      5\u001b[0m                 name \u001b[38;5;241m=\u001b[39m \u001b[38;5;124m'\u001b[39m\u001b[38;5;124mHuman Brain Cortex\u001b[39m\u001b[38;5;124m'\u001b[39m, verbose \u001b[38;5;241m=\u001b[39m \u001b[38;5;28;01mTrue\u001b[39;00m, \n\u001b[1;32m      6\u001b[0m                 lr \u001b[38;5;241m=\u001b[39m \u001b[38;5;241m0.00001\u001b[39m, batch_size \u001b[38;5;241m=\u001b[39m \u001b[38;5;241m256\u001b[39m, epochs \u001b[38;5;241m=\u001b[39m epochs)\n\u001b[1;32m      8\u001b[0m \u001b[38;5;66;03m# train\u001b[39;00m\n\u001b[0;32m----> 9\u001b[0m \u001b[43msw\u001b[49m\u001b[38;5;241;43m.\u001b[39;49m\u001b[43mrun\u001b[49m\u001b[43m(\u001b[49m\u001b[43m)\u001b[49m\n",
      "File \u001b[0;32m/mnt/md0/data/jfuente/digital_cytometry/Sweetwater_package/Sweetwater/examples/../src/model.py:229\u001b[0m, in \u001b[0;36mSweetWater.run\u001b[0;34m(self)\u001b[0m\n\u001b[1;32m    226\u001b[0m         param\u001b[38;5;241m.\u001b[39mrequires_grad \u001b[38;5;241m=\u001b[39m \u001b[38;5;28;01mTrue\u001b[39;00m\n\u001b[1;32m    228\u001b[0m \u001b[38;5;66;03m#run bulk alignment and reset early stopping\u001b[39;00m\n\u001b[0;32m--> 229\u001b[0m \u001b[43mrun_phase3\u001b[49m\u001b[43m(\u001b[49m\u001b[43m)\u001b[49m\n",
      "File \u001b[0;32m/mnt/md0/data/jfuente/digital_cytometry/Sweetwater_package/Sweetwater/examples/../src/model.py:183\u001b[0m, in \u001b[0;36mSweetWater.run.<locals>.run_phase3\u001b[0;34m()\u001b[0m\n\u001b[1;32m    180\u001b[0m     bproploss, bypred \u001b[38;5;241m=\u001b[39m \u001b[38;5;28mself\u001b[39m\u001b[38;5;241m.\u001b[39mtrain(x \u001b[38;5;241m=\u001b[39m xpseudo\u001b[38;5;241m.\u001b[39mcuda(), ytrue \u001b[38;5;241m=\u001b[39m bypseudo\u001b[38;5;241m.\u001b[39mcuda(), mode\u001b[38;5;241m=\u001b[39m\u001b[38;5;124m'\u001b[39m\u001b[38;5;124mphase3\u001b[39m\u001b[38;5;124m'\u001b[39m)\n\u001b[1;32m    181\u001b[0m     batched_trproploss\u001b[38;5;241m.\u001b[39mappend(bproploss)\n\u001b[0;32m--> 183\u001b[0m     bpropr2 \u001b[38;5;241m=\u001b[39m \u001b[38;5;28mself\u001b[39m\u001b[38;5;241m.\u001b[39mr2(\u001b[43mbypseudo\u001b[49m\u001b[38;5;241;43m.\u001b[39;49m\u001b[43mnumpy\u001b[49m\u001b[43m(\u001b[49m\u001b[43m)\u001b[49m, bypred\u001b[38;5;241m.\u001b[39mcpu()\u001b[38;5;241m.\u001b[39mdetach()\u001b[38;5;241m.\u001b[39mnumpy())\n\u001b[1;32m    184\u001b[0m     batched_trpropr2\u001b[38;5;241m.\u001b[39mappend(bpropr2)\n\u001b[1;32m    186\u001b[0m trainproploss\u001b[38;5;241m.\u001b[39mappend(np\u001b[38;5;241m.\u001b[39mmean(batched_trproploss))\n",
      "\u001b[0;31mTypeError\u001b[0m: can't convert cuda:0 device type tensor to numpy. Use Tensor.cpu() to copy the tensor to host memory first."
     ]
    }
   ],
   "source": [
    "## define epochs and init sweetwater object\n",
    "epochs = round(30000/(xtrain.shape[0]/256))\n",
    "sw = mod.SweetWater(data = (xtrain, ytrain, xtest, ytest), \n",
    "                bulkrna = xbulk,\n",
    "                name = 'Human Brain Cortex', verbose = True, \n",
    "                lr = 0.00001, batch_size = 256, epochs = epochs)\n",
    "\n",
    "# train\n",
    "sw.run()"
   ]
  }
 ],
 "metadata": {
  "kernelspec": {
   "display_name": "Python 3",
   "language": "python",
   "name": "python3"
  },
  "language_info": {
   "codemirror_mode": {
    "name": "ipython",
    "version": 3
   },
   "file_extension": ".py",
   "mimetype": "text/x-python",
   "name": "python",
   "nbconvert_exporter": "python",
   "pygments_lexer": "ipython3",
   "version": "3.8.10"
  }
 },
 "nbformat": 4,
 "nbformat_minor": 2
}
