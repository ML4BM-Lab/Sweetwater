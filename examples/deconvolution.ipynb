{
 "cells": [
  {
   "cell_type": "code",
   "execution_count": 1,
   "metadata": {},
   "outputs": [
    {
     "name": "stderr",
     "output_type": "stream",
     "text": [
      "/home/jfuente/.local/lib/python3.8/site-packages/scipy/__init__.py:146: UserWarning: A NumPy version >=1.16.5 and <1.23.0 is required for this version of SciPy (detected version 1.24.4\n",
      "  warnings.warn(f\"A NumPy version >={np_minversion} and <{np_maxversion}\"\n"
     ]
    }
   ],
   "source": [
    "import pandas as pd\n",
    "pd.set_option('display.max_rows', 20)\n",
    "pd.set_option('display.max_columns', 5)\n",
    "import warnings\n",
    "warnings.simplefilter(action='ignore', category=FutureWarning)\n",
    "import sys\n",
    "import importlib\n",
    "sys.path.append('../src/')\n",
    "sys.path.append('../data/')\n",
    "import model as mod\n",
    "importlib.reload(mod)\n",
    "import data_utils as du\n",
    "importlib.reload(du)\n",
    "from sklearn.model_selection import train_test_split\n",
    "import torch\n",
    "import os"
   ]
  },
  {
   "cell_type": "code",
   "execution_count": 2,
   "metadata": {},
   "outputs": [],
   "source": [
    "## lets use the human brain cortex dataset from the original manuscript, but only with the first 3000 most variant genes\n",
    "scRNA = pd.read_csv(os.path.join('..','data','scrna_reduced_3000.tsv'),sep='\\t', index_col=0)\n",
    "bulkRNA = pd.read_csv(os.path.join('..','data','bulkrna_reduced_3000.tsv'),sep='\\t', index_col=0)\n",
    "\n",
    "## define number of samples\n",
    "nsamples = 5000\n",
    "train_size, test_size = 0.8, 0.2"
   ]
  },
  {
   "cell_type": "code",
   "execution_count": 3,
   "metadata": {},
   "outputs": [
    {
     "data": {
      "text/html": [
       "<div>\n",
       "<style scoped>\n",
       "    .dataframe tbody tr th:only-of-type {\n",
       "        vertical-align: middle;\n",
       "    }\n",
       "\n",
       "    .dataframe tbody tr th {\n",
       "        vertical-align: top;\n",
       "    }\n",
       "\n",
       "    .dataframe thead th {\n",
       "        text-align: right;\n",
       "    }\n",
       "</style>\n",
       "<table border=\"1\" class=\"dataframe\">\n",
       "  <thead>\n",
       "    <tr style=\"text-align: right;\">\n",
       "      <th></th>\n",
       "      <th>MALAT1</th>\n",
       "      <th>NEAT1</th>\n",
       "      <th>...</th>\n",
       "      <th>P2RX7</th>\n",
       "      <th>SYNJ1</th>\n",
       "    </tr>\n",
       "  </thead>\n",
       "  <tbody>\n",
       "    <tr>\n",
       "      <th>Endotelial</th>\n",
       "      <td>18.0</td>\n",
       "      <td>18.0</td>\n",
       "      <td>...</td>\n",
       "      <td>0.0</td>\n",
       "      <td>0.0</td>\n",
       "    </tr>\n",
       "    <tr>\n",
       "      <th>Microglia</th>\n",
       "      <td>19.0</td>\n",
       "      <td>11.0</td>\n",
       "      <td>...</td>\n",
       "      <td>1.0</td>\n",
       "      <td>0.0</td>\n",
       "    </tr>\n",
       "    <tr>\n",
       "      <th>Endotelial</th>\n",
       "      <td>64.0</td>\n",
       "      <td>20.0</td>\n",
       "      <td>...</td>\n",
       "      <td>0.0</td>\n",
       "      <td>0.0</td>\n",
       "    </tr>\n",
       "    <tr>\n",
       "      <th>Neuron</th>\n",
       "      <td>39.0</td>\n",
       "      <td>7.0</td>\n",
       "      <td>...</td>\n",
       "      <td>0.0</td>\n",
       "      <td>0.0</td>\n",
       "    </tr>\n",
       "    <tr>\n",
       "      <th>Endotelial</th>\n",
       "      <td>20.0</td>\n",
       "      <td>7.0</td>\n",
       "      <td>...</td>\n",
       "      <td>0.0</td>\n",
       "      <td>0.0</td>\n",
       "    </tr>\n",
       "    <tr>\n",
       "      <th>...</th>\n",
       "      <td>...</td>\n",
       "      <td>...</td>\n",
       "      <td>...</td>\n",
       "      <td>...</td>\n",
       "      <td>...</td>\n",
       "    </tr>\n",
       "    <tr>\n",
       "      <th>Astrocyte</th>\n",
       "      <td>76.0</td>\n",
       "      <td>39.0</td>\n",
       "      <td>...</td>\n",
       "      <td>0.0</td>\n",
       "      <td>0.0</td>\n",
       "    </tr>\n",
       "    <tr>\n",
       "      <th>Oligodendrocyte</th>\n",
       "      <td>121.0</td>\n",
       "      <td>18.0</td>\n",
       "      <td>...</td>\n",
       "      <td>0.0</td>\n",
       "      <td>0.0</td>\n",
       "    </tr>\n",
       "    <tr>\n",
       "      <th>Endotelial</th>\n",
       "      <td>18.0</td>\n",
       "      <td>11.0</td>\n",
       "      <td>...</td>\n",
       "      <td>0.0</td>\n",
       "      <td>0.0</td>\n",
       "    </tr>\n",
       "    <tr>\n",
       "      <th>Endotelial</th>\n",
       "      <td>46.0</td>\n",
       "      <td>12.0</td>\n",
       "      <td>...</td>\n",
       "      <td>0.0</td>\n",
       "      <td>0.0</td>\n",
       "    </tr>\n",
       "    <tr>\n",
       "      <th>Endotelial</th>\n",
       "      <td>33.0</td>\n",
       "      <td>9.0</td>\n",
       "      <td>...</td>\n",
       "      <td>0.0</td>\n",
       "      <td>0.0</td>\n",
       "    </tr>\n",
       "  </tbody>\n",
       "</table>\n",
       "<p>9279 rows × 3000 columns</p>\n",
       "</div>"
      ],
      "text/plain": [
       "                 MALAT1  NEAT1  ...  P2RX7  SYNJ1\n",
       "Endotelial         18.0   18.0  ...    0.0    0.0\n",
       "Microglia          19.0   11.0  ...    1.0    0.0\n",
       "Endotelial         64.0   20.0  ...    0.0    0.0\n",
       "Neuron             39.0    7.0  ...    0.0    0.0\n",
       "Endotelial         20.0    7.0  ...    0.0    0.0\n",
       "...                 ...    ...  ...    ...    ...\n",
       "Astrocyte          76.0   39.0  ...    0.0    0.0\n",
       "Oligodendrocyte   121.0   18.0  ...    0.0    0.0\n",
       "Endotelial         18.0   11.0  ...    0.0    0.0\n",
       "Endotelial         46.0   12.0  ...    0.0    0.0\n",
       "Endotelial         33.0    9.0  ...    0.0    0.0\n",
       "\n",
       "[9279 rows x 3000 columns]"
      ]
     },
     "execution_count": 3,
     "metadata": {},
     "output_type": "execute_result"
    }
   ],
   "source": [
    "scRNA"
   ]
  },
  {
   "cell_type": "code",
   "execution_count": 4,
   "metadata": {},
   "outputs": [
    {
     "name": "stderr",
     "output_type": "stream",
     "text": [
      "simulating bulk: 100%|██████████| 4030/4030 [00:08<00:00, 458.60it/s]\n",
      "simulating bulk: 100%|██████████| 1023/1023 [00:00<00:00, 1660.36it/s]\n"
     ]
    }
   ],
   "source": [
    "#split into train and test\n",
    "scRNA_train, scRNA_test = train_test_split(scRNA.copy(), stratify=scRNA.index, test_size = 0.2, random_state= 42)\n",
    "\n",
    "# create pseudobulk for train\n",
    "xtrain, ytrain, celltypes = du.generate_synthethic(scRNA_train, nsamples = nsamples * train_size)\n",
    "xtest, ytest, _ = du.generate_synthethic(scRNA_test, nsamples = nsamples * test_size)\n",
    "\n",
    "## transform and normalize\n",
    "xtrain, xtest, xbulk = du.transform_and_normalize(xtrain, xtest, bulkRNA.values)\n",
    "\n",
    "## convert to torch\n",
    "xtrain, ytrain, xtest, ytest, xbulk = du.convert_to_float_tensors(xtrain, ytrain, xtest, ytest, xbulk)"
   ]
  },
  {
   "cell_type": "code",
   "execution_count": 5,
   "metadata": {},
   "outputs": [
    {
     "name": "stdout",
     "output_type": "stream",
     "text": [
      "torch.Size([4030, 3000])\n",
      "torch.Size([1023, 3000])\n",
      "torch.Size([4030, 5])\n",
      "torch.Size([1023, 5])\n"
     ]
    }
   ],
   "source": [
    "print(xtrain.shape) #4088 (~5000*0.8) samples x 3000 genes (most variant ones)\n",
    "print(xtest.shape) #511 (~5000*0.2) samples x 3000 genes (most variant ones)\n",
    "print(ytrain.shape) #proportions associated to xtrain\n",
    "print(ytest.shape) #proportions associated to xtest"
   ]
  },
  {
   "cell_type": "code",
   "execution_count": 6,
   "metadata": {},
   "outputs": [
    {
     "name": "stdout",
     "output_type": "stream",
     "text": [
      "Stablishing Early Stopping with patience 10\n",
      "Stablishing Early Stopping with patience 10\n",
      "Stablishing Early Stopping with patience 50\n"
     ]
    },
    {
     "name": "stderr",
     "output_type": "stream",
     "text": [
      "P1: Train MSE is: 0.00035, Test MSE is 0.001397:  23%|██▎       | 432/1906 [01:45<05:58,  4.11it/s] \n"
     ]
    },
    {
     "name": "stdout",
     "output_type": "stream",
     "text": [
      "Early stopping condition achieved\n"
     ]
    },
    {
     "name": "stderr",
     "output_type": "stream",
     "text": [
      "P2: Train MSE is: 0.000451, Test MSE is: 0.00066:   3%|▎         | 64/1906 [00:12<05:46,  5.31it/s] \n"
     ]
    },
    {
     "name": "stdout",
     "output_type": "stream",
     "text": [
      "Early stopping condition achieved\n"
     ]
    },
    {
     "name": "stderr",
     "output_type": "stream",
     "text": [
      "P3: Train MSE 0.00024, test MSE 0.001023, Train R2 0.9971, Test R2 0.9875:  32%|███▏      | 617/1906 [02:15<04:43,  4.54it/s] "
     ]
    },
    {
     "name": "stdout",
     "output_type": "stream",
     "text": [
      "Early stopping condition achieved\n"
     ]
    },
    {
     "name": "stderr",
     "output_type": "stream",
     "text": [
      "\n"
     ]
    }
   ],
   "source": [
    "## define epochs and init sweetwater object\n",
    "epochs = round(30000/(xtrain.shape[0]/256))\n",
    "sw = mod.SweetWater(data = (xtrain, ytrain, xtest, ytest), \n",
    "                bulkrna = xbulk,\n",
    "                name = 'Human Brain Cortex', verbose = True, \n",
    "                lr = 0.00001, batch_size = 256, epochs = epochs)\n",
    "\n",
    "# train\n",
    "sw.run()"
   ]
  },
  {
   "cell_type": "code",
   "execution_count": 7,
   "metadata": {},
   "outputs": [
    {
     "name": "stdout",
     "output_type": "stream",
     "text": [
      "    Astrocyte  Endotelial  Microglia    Neuron  Oligodendrocyte\n",
      "0    0.448156    0.000049   0.003208  0.356009         0.192578\n",
      "1    0.204977    0.000026   0.003653  0.383842         0.407502\n",
      "2    0.231552    0.000136   0.002030  0.217299         0.548983\n",
      "3    0.573304    0.000172   0.005909  0.240426         0.180189\n",
      "4    0.430829    0.005058   0.002496  0.012442         0.549175\n",
      "..        ...         ...        ...       ...              ...\n",
      "44   0.245817    0.000043   0.004040  0.369782         0.380318\n",
      "45   0.587130    0.000564   0.003326  0.026556         0.382425\n",
      "46   0.359754    0.004363   0.001543  0.023021         0.611319\n",
      "47   0.461992    0.000093   0.003632  0.200291         0.333991\n",
      "48   0.442756    0.000110   0.005628  0.188061         0.363445\n",
      "\n",
      "[49 rows x 5 columns]\n"
     ]
    }
   ],
   "source": [
    "## we can now infer the cell type proportions of our bulkRNA samples\n",
    "ypredbulkrna = sw.aemodel(xbulk.to(sw.device), mode = 'phase3')\n",
    "print(pd.DataFrame(ypredbulkrna.detach().cpu(), columns = celltypes))"
   ]
  },
  {
   "cell_type": "code",
   "execution_count": 8,
   "metadata": {},
   "outputs": [],
   "source": [
    "## save the model to perform interpretability (see interpretability.ipynb)\n",
    "torch.save(sw.aemodel.state_dict(), os.path.join('../','data','model_rosmap_weights_3000_genes.pt'))"
   ]
  }
 ],
 "metadata": {
  "kernelspec": {
   "display_name": "Python 3",
   "language": "python",
   "name": "python3"
  },
  "language_info": {
   "codemirror_mode": {
    "name": "ipython",
    "version": 3
   },
   "file_extension": ".py",
   "mimetype": "text/x-python",
   "name": "python",
   "nbconvert_exporter": "python",
   "pygments_lexer": "ipython3",
   "version": "3.8.10"
  }
 },
 "nbformat": 4,
 "nbformat_minor": 2
}
